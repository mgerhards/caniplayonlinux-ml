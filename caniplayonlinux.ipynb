{
 "cells": [
  {
   "cell_type": "code",
   "execution_count": 1,
   "metadata": {},
   "outputs": [],
   "source": [
    "import pandas as pd\n",
    "import tarfile\n",
    "import json\n",
    "import os\n",
    "from pandas import json_normalize\n",
    "\n",
    "from lib import *\n",
    "from train import *\n",
    "from demo import *\n",
    "import re\n",
    "from datetime import datetime"
   ]
  },
  {
   "cell_type": "code",
   "execution_count": 2,
   "metadata": {},
   "outputs": [],
   "source": [
    "def parse_date(filename):\n",
    "    basename = os.path.basename(filename)\n",
    "    match = re.search(r'reports_(\\w+)(\\d+)_(\\d+)', basename)\n",
    "    if not match:\n",
    "        raise ValueError(f\"Konnte kein Datum aus dem Dateinamen extrahieren: {basename}\")\n",
    "\n",
    "    month, day, year = match.groups()\n",
    "\n",
    "    # Konvertiere den Monatsnamen in eine Zahl\n",
    "    month_num = datetime.strptime(month, '%b').month\n",
    "\n",
    "    # Erstelle ein vollständiges Datum\n",
    "    date_str = f\"{year}-{month_num:02d}-{int(day):02d}\"\n",
    "    return datetime.strptime(date_str, \"%Y-%m-%d\")"
   ]
  },
  {
   "cell_type": "code",
   "execution_count": 3,
   "metadata": {},
   "outputs": [],
   "source": [
    "def read_json_from_tar_and_convert_to_df(tar_file):\n",
    "    json_data = []\n",
    "    with tarfile.open(tar_file, 'r:gz') as tar:\n",
    "        for member in tar.getmembers():\n",
    "            if member.isfile() and member.name.endswith('.json'):\n",
    "                file = tar.extractfile(member)\n",
    "                data = json.load(file)\n",
    "                json_data.append(data)\n",
    "    df = pd.DataFrame(json_normalize(json_data))\n",
    "    return df"
   ]
  },
  {
   "cell_type": "code",
   "execution_count": 13,
   "metadata": {},
   "outputs": [],
   "source": [
    "data_list = []\n",
    "directory = 'data/protondb-data/reports'\n",
    "df = None\n",
    "for file in os.listdir(directory):\n",
    "    if file.endswith('.tar.gz'):\n",
    "        print(f\"Extracting file {file}\")\n",
    "        date = parse_date(file)\n",
    "        if date >= datetime.strptime(\"2022-03-01\", \"%Y-%m-%d\"):\n",
    "            file_path = os.path.join(directory, file)\n",
    "            data =  read_json_from_tar_and_convert_to_df(file_path)\n",
    "            if df is None:\n",
    "                df = data\n",
    "            else:\n",
    "                df = pd.concat([df, data])"
   ]
  },
  {
   "cell_type": "code",
   "execution_count": null,
   "metadata": {},
   "outputs": [],
   "source": [
    "df = pd.DataFrame(json_normalize(data_list))"
   ]
  }
 ],
 "metadata": {
  "kernelspec": {
   "display_name": "Python <caniplayonlinux>",
   "language": "python",
   "name": "caniplayonlinux"
  },
  "language_info": {
   "codemirror_mode": {
    "name": "ipython",
    "version": 3
   },
   "file_extension": ".py",
   "mimetype": "text/x-python",
   "name": "python",
   "nbconvert_exporter": "python",
   "pygments_lexer": "ipython3",
   "version": "3.12.7"
  }
 },
 "nbformat": 4,
 "nbformat_minor": 4
}
