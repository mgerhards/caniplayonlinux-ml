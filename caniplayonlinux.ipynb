{
 "cells": [
  {
   "cell_type": "code",
   "execution_count": 1,
   "metadata": {},
   "outputs": [],
   "source": [
    "import pandas as pd\n",
    "import tarfile\n",
    "import json\n",
    "import os\n",
    "\n",
    "from lib import *\n",
    "from train import *\n",
    "from demo import *"
   ]
  },
  {
   "cell_type": "code",
   "execution_count": 3,
   "metadata": {},
   "outputs": [],
   "source": [
    "def read_json_from_tar(tar_file):\n",
    "    json_data = []\n",
    "    with tarfile.open(tar_file, 'r:gz') as tar:\n",
    "        for member in tar.getmembers():\n",
    "            if member.isfile() and member.name.endswith('.json'):\n",
    "                file = tar.extractfile(member)\n",
    "                data = json.load(file)\n",
    "                json_data.append(data)\n",
    "    return json_data"
   ]
  },
  {
   "cell_type": "code",
   "execution_count": 5,
   "metadata": {},
   "outputs": [],
   "source": [
    "data_list = []\n",
    "directory = 'data/protondb-data/reports'\n",
    "for file in os.listdir(directory):\n",
    "    if file.endswith('.tar.gz'):\n",
    "        file_path = os.path.join(directory, file)\n",
    "        json_data = read_json_from_tar(file_path)\n",
    "        data_list.extend(json_data)"
   ]
  },
  {
   "cell_type": "code",
   "execution_count": null,
   "metadata": {},
   "outputs": [],
   "source": [
    "df = pd.DataFrame(data_list)"
   ]
  }
 ],
 "metadata": {
  "kernelspec": {
   "display_name": "Python (caniplayonlinux)",
   "language": "python",
   "name": "venv"
  },
  "language_info": {
   "codemirror_mode": {
    "name": "ipython",
    "version": 3
   },
   "file_extension": ".py",
   "mimetype": "text/x-python",
   "name": "python",
   "nbconvert_exporter": "python",
   "pygments_lexer": "ipython3",
   "version": "3.12.5"
  }
 },
 "nbformat": 4,
 "nbformat_minor": 2
}
