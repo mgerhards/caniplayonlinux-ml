{
 "cells": [
  {
   "cell_type": "code",
   "execution_count": 1,
   "metadata": {},
   "outputs": [],
   "source": [
    "import pandas as pd\n",
    "import tarfile\n",
    "import json\n",
    "import os\n",
    "from pandas import json_normalize\n",
    "\n",
    "import re\n",
    "from datetime import datetime"
   ]
  },
  {
   "cell_type": "code",
   "execution_count": 2,
   "metadata": {},
   "outputs": [],
   "source": [
    "def parse_date(filename):\n",
    "    basename = os.path.basename(filename)\n",
    "    match = re.search(r'reports_(\\w+)(\\d+)_(\\d+)', basename)\n",
    "    if not match:\n",
    "        raise ValueError(f\"Konnte kein Datum aus dem Dateinamen extrahieren: {basename}\")\n",
    "\n",
    "    month, day, year = match.groups()\n",
    "\n",
    "    # Konvertiere den Monatsnamen in eine Zahl\n",
    "    month_num = datetime.strptime(month, '%b').month\n",
    "\n",
    "    # Erstelle ein vollständiges Datum\n",
    "    date_str = f\"{year}-{month_num:02d}-{int(day):02d}\"\n",
    "    return datetime.strptime(date_str, \"%Y-%m-%d\")"
   ]
  },
  {
   "cell_type": "code",
   "execution_count": 3,
   "metadata": {},
   "outputs": [],
   "source": [
    "def read_json_from_tar_and_convert_to_df(tar_file):\n",
    "    with tarfile.open(tar_file, 'r:gz') as tar:\n",
    "        for member in tar.getmembers():\n",
    "            if member.isfile() and member.name.endswith('.json'):\n",
    "                file = tar.extractfile(member)\n",
    "                data = json.load(file)               \n",
    "                df = pd.DataFrame(json_normalize(data))\n",
    "                return df\n",
    "    "
   ]
  },
  {
   "cell_type": "code",
   "execution_count": 4,
   "metadata": {},
   "outputs": [
    {
     "name": "stdout",
     "output_type": "stream",
     "text": [
      "Extracting file reports_apr1_2019.tar.gz\n",
      "Extracting file reports_apr1_2020.tar.gz\n",
      "Extracting file reports_apr1_2021.tar.gz\n",
      "Extracting file reports_apr1_2022.tar.gz\n",
      "Extracting file reports_apr3_2024.tar.gz\n",
      "Extracting file reports_apr4_2023.tar.gz\n",
      "Extracting file reports_aug1_2019.tar.gz\n",
      "Extracting file reports_aug1_2021.tar.gz\n",
      "Extracting file reports_aug1_2022.tar.gz\n",
      "Extracting file reports_aug1_2023.tar.gz\n",
      "Extracting file reports_aug2_2024.tar.gz\n",
      "Extracting file reports_dec1_2018.tar.gz\n",
      "Extracting file reports_dec1_2020.tar.gz\n",
      "Extracting file reports_dec1_2021.tar.gz\n",
      "Extracting file reports_dec1_2023.tar.gz\n",
      "Extracting file reports_dec2_2019.tar.gz\n",
      "Extracting file reports_dec2_2022.tar.gz\n",
      "Extracting file reports_feb1_2019.tar.gz\n",
      "Extracting file reports_feb1_2020.tar.gz\n",
      "Extracting file reports_feb1_2021.tar.gz\n",
      "Extracting file reports_feb1_2022.tar.gz\n",
      "Extracting file reports_feb1_2024.tar.gz\n",
      "Extracting file reports_feb3_2023.tar.gz\n",
      "Extracting file reports_jan1_2019.tar.gz\n",
      "Extracting file reports_jan1_2020.tar.gz\n",
      "Extracting file reports_jan1_2021.tar.gz\n",
      "Extracting file reports_jan1_2022.tar.gz\n",
      "Extracting file reports_jan1_2023.tar.gz\n",
      "Extracting file reports_jan1_2024.tar.gz\n",
      "Extracting file reports_jul1_2019.tar.gz\n",
      "Extracting file reports_jul1_2021.tar.gz\n",
      "Extracting file reports_jul1_2022.tar.gz\n",
      "Extracting file reports_jul1_2024.tar.gz\n",
      "Extracting file reports_jul2_2023.tar.gz\n",
      "Extracting file reports_jul5_2020.tar.gz\n",
      "Extracting file reports_jun1_2019.tar.gz\n",
      "Extracting file reports_jun1_2020.tar.gz\n",
      "Extracting file reports_jun1_2021.tar.gz\n",
      "Extracting file reports_jun1_2022.tar.gz\n",
      "Extracting file reports_jun1_2024.tar.gz\n",
      "Extracting file reports_jun8_2023.tar.gz\n",
      "Extracting file reports_mar1_2019.tar.gz\n",
      "Extracting file reports_mar1_2020.tar.gz\n",
      "Extracting file reports_mar1_2021.tar.gz\n",
      "Extracting file reports_mar1_2022.tar.gz\n",
      "Extracting file reports_mar1_2023.tar.gz\n",
      "Extracting file reports_mar1_2024.tar.gz\n",
      "Extracting file reports_may1_2019.tar.gz\n",
      "Extracting file reports_may1_2020.tar.gz\n",
      "Extracting file reports_may1_2021.tar.gz\n",
      "Extracting file reports_may1_2022.tar.gz\n",
      "Extracting file reports_may1_2023.tar.gz\n",
      "Extracting file reports_may5_2024.tar.gz\n",
      "Extracting file reports_nov1_2018.tar.gz\n",
      "Extracting file reports_nov1_2019.tar.gz\n",
      "Extracting file reports_nov1_2020.tar.gz\n",
      "Extracting file reports_nov1_2021.tar.gz\n",
      "Extracting file reports_nov1_2022.tar.gz\n",
      "Extracting file reports_nov1_2023.tar.gz\n",
      "Extracting file reports_oct1_2019.tar.gz\n",
      "Extracting file reports_oct1_2021.tar.gz\n",
      "Extracting file reports_oct1_2023.tar.gz\n",
      "Extracting file reports_oct2_2022.tar.gz\n",
      "Extracting file reports_oct3_2020.tar.gz\n",
      "Extracting file reports_oct5_2024.tar.gz\n",
      "Extracting file reports_sep1_2021.tar.gz\n",
      "Extracting file reports_sep1_2023.tar.gz\n",
      "Extracting file reports_sep1_2024.tar.gz\n",
      "Extracting file reports_sep2_2022.tar.gz\n",
      "Extracting file reports_sep3_2019.tar.gz\n",
      "Extracting file reports_sep5_2020.tar.gz\n"
     ]
    }
   ],
   "source": [
    "data_list = []\n",
    "directory = 'data/protondb-data/reports'\n",
    "df = None\n",
    "for file in os.listdir(directory):\n",
    "    if file.endswith('.tar.gz'):\n",
    "        print(f\"Extracting file {file}\")\n",
    "        date = parse_date(file)\n",
    "        if date >= datetime.strptime(\"2022-03-01\", \"%Y-%m-%d\"):\n",
    "            file_path = os.path.join(directory, file)\n",
    "            data =  read_json_from_tar_and_convert_to_df(file_path)\n",
    "            if df is None:\n",
    "                df = data\n",
    "            else:\n",
    "                df = pd.concat([df, data])"
   ]
  },
  {
   "cell_type": "code",
   "execution_count": 5,
   "metadata": {},
   "outputs": [],
   "source": [
    "data.to_pickle('data/reports.pkl')"
   ]
  }
 ],
 "metadata": {
  "kernelspec": {
   "display_name": "Python <caniplayonlinux>",
   "language": "python",
   "name": "caniplayonlinux"
  },
  "language_info": {
   "codemirror_mode": {
    "name": "ipython",
    "version": 3
   },
   "file_extension": ".py",
   "mimetype": "text/x-python",
   "name": "python",
   "nbconvert_exporter": "python",
   "pygments_lexer": "ipython3",
   "version": "3.12.7"
  }
 },
 "nbformat": 4,
 "nbformat_minor": 4
}
